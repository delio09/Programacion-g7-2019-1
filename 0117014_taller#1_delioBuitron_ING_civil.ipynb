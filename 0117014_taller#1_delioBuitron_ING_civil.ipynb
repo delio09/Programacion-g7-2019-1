{
 "cells": [
  {
   "cell_type": "markdown",
   "metadata": {},
   "source": [
    "\n",
    "# ejercicio #1"
   ]
  },
  {
   "cell_type": "code",
   "execution_count": null,
   "metadata": {},
   "outputs": [],
   "source": [
    "\n",
    "x = float(input(\"por favor ingrese un numero:\")) #entrada de datos\n",
    "if x >= 0 : #condicional\n",
    "    print('su numero en valor absoluto es :',x)#salida de datos\n",
    "else: #\n",
    "    x=x*-1\n",
    "    print('su numero en valor absoluto es :',x) #salida de datos"
   ]
  },
  {
   "cell_type": "markdown",
   "metadata": {},
   "source": [
    "# ejercicio #2"
   ]
  },
  {
   "cell_type": "code",
   "execution_count": null,
   "metadata": {},
   "outputs": [],
   "source": [
    "z=0\n",
    "y=0\n",
    "x = int(input('ingrese un numero :'))#entrada de datos\n",
    "while x > 0:\n",
    "    y=x%10\n",
    "    z=(z*10)+y \n",
    "    x=int(x/10)\n",
    "print('su numero en reversa es:', z) #salida de resultado"
   ]
  },
  {
   "cell_type": "markdown",
   "metadata": {},
   "source": [
    "# ejercicio #3"
   ]
  },
  {
   "cell_type": "code",
   "execution_count": null,
   "metadata": {},
   "outputs": [],
   "source": [
    "c = 0  # bandera \n",
    "x = int(input('ingresar un numero:'))\n",
    "if x >=-1000 and x<=1000 :              # verificacion del numero sea positivo\n",
    "    if x < 0 :\n",
    "        x=x*-1\n",
    "    \n",
    "    while x>0:\n",
    "        if x%10 == 8:                   #tomomos ultimo digito y comparo si es 8\n",
    "            c=1                         # si encuentra un 8 levanta la bandera \n",
    "        x= int(x/10)                    # valor de x despues del ultimo digito \n",
    "    if c==1 :                           # pregunto si la bandera esta levantada \n",
    "        print('contiene el 8')\n",
    "\n",
    "    else :\n",
    "        print('no contiene el 8')       \n",
    "        \n",
    "else:\n",
    "    print('numero invalido ') "
   ]
  },
  {
   "cell_type": "markdown",
   "metadata": {},
   "source": [
    "# ejercicio #4"
   ]
  },
  {
   "cell_type": "code",
   "execution_count": null,
   "metadata": {},
   "outputs": [],
   "source": [
    "c=0    # acumulador \n",
    "x= int(input('ingresar valor :'))\n",
    "while x>0:\n",
    "    y=(x%10)\n",
    "    if y % 2 ==0:\n",
    "        c= c + y\n",
    "    x= int(x/10)    # es para ir reduciendo la cifra \n",
    "print('la suma de los numeros pares es: ', c )\n"
   ]
  },
  {
   "cell_type": "markdown",
   "metadata": {},
   "source": [
    "# ejercicio #5"
   ]
  },
  {
   "cell_type": "code",
   "execution_count": 3,
   "metadata": {},
   "outputs": [
    {
     "name": "stdout",
     "output_type": "stream",
     "text": [
      "ingresar un numero:555\n",
      "este numero contiene 3 cincos concecutivos\n"
     ]
    }
   ],
   "source": [
    "c = 0  # contador \n",
    "b=0 #bandera\n",
    "t=0 # temporal\n",
    "x = int(input('ingresar un numero:'))          \n",
    "\n",
    "while x>0:\n",
    "    if (x%10 == 5) :    #tomomos ultimo digito y comparo si es 5\n",
    "        c= c+1              # si encuentra un 5 guardarlo\n",
    "        b=1\n",
    "        if c>t:\n",
    "            t=c\n",
    "    else :\n",
    "        b=0\n",
    "        c=0\n",
    "    x= int(x/10)  # valor de x despues del ultimo digito \n",
    "\n",
    "print('este numero contiene',t ,'cincos concecutivos')"
   ]
  },
  {
   "cell_type": "markdown",
   "metadata": {},
   "source": [
    "# ejercicio #6"
   ]
  },
  {
   "cell_type": "code",
   "execution_count": null,
   "metadata": {},
   "outputs": [],
   "source": [
    "c=0\n",
    "s=0\n",
    "x = int(input('ingrese un numero:'))\n",
    "cadena=[];  # para calcular la sucecion \n",
    "for i in range(1,x+1):\n",
    "    if i==1 or i==2:\n",
    "        cadena.append(1)\n",
    "    else :\n",
    "        cadena.append(cadena[i-2] + cadena[i-3])\n",
    "                 \n",
    "while x>0:    # ciclo que me va a sumar los digitos del numero ingresado\n",
    "    y=(x%10)\n",
    "    c=c+y\n",
    "    x=int(x/10)\n",
    "print('la suma de los digitos de su numero es',c)\n",
    "\n",
    "if c in cadena : # pribar si la suma de los digitos del numero ingresao si \n",
    "    # esta en la sucecion\n",
    "    print(c,'esta en la sucecion ')\n",
    "else:\n",
    "    print(c,'no esta en la sucecion')"
   ]
  },
  {
   "cell_type": "markdown",
   "metadata": {},
   "source": [
    "# ejercicio #7"
   ]
  },
  {
   "cell_type": "code",
   "execution_count": null,
   "metadata": {},
   "outputs": [],
   "source": [
    "cadena=[]\n",
    "c=0   # contador \n",
    "x = int(input('ingrese un numero :'))\n",
    "z=x # duplicado \n",
    "while x>0:   # ciclo que me recorre el numero ingresado\n",
    "    w=(x%10) #  seleciona el ultimo digito ingresado \n",
    "    y=z #   reinicia el duplicado\n",
    "    while y>0: # ciclo que verofica el ultimo digito ingresado con cada digito\n",
    "        #del duplicado\n",
    "        if w ==(y%10): \n",
    "            c=c+1# si encuentra una coincidencia aumenta el contador\n",
    "        y=int(y/10) # siguiente digito del duplicado\n",
    "    if c>1: #si elcontador es mayor a 1 implica qur hay un digito repetido \n",
    "        if w not in cadena: # si el digito es repetido verifica si no a sido\n",
    "            #tenido encuenta\n",
    "            cadena.append(w)# si no a sido tenido en cuenta se agrega a la lista \n",
    "    c=0 # iniciar el contador \n",
    "    x= int(x/10) # va reduciendo el numero ingresado\n",
    "print('digitos repetidos:',cadena) # resultado \n"
   ]
  },
  {
   "cell_type": "markdown",
   "metadata": {},
   "source": [
    "# ejercicio #8"
   ]
  },
  {
   "cell_type": "code",
   "execution_count": null,
   "metadata": {},
   "outputs": [],
   "source": [
    "def multiplo(valor, multiplo):#Funcion para calcular si el numero es multiplo\n",
    "   # utilizando el modulo de la division\n",
    "    resto = valor % multiplo  # funcion para caucular el multiplo\n",
    "    if resto == 0:\n",
    "        return True\n",
    "    else:\n",
    "        return False\n",
    " \n",
    "\n",
    "multiplos_3=[]  # lista que contendra los valores multiplos\n",
    "multiplos_4=[]\n",
    " \n",
    "\n",
    "for i in range(0,45): # bucle del 0 al 100\n",
    " \n",
    "    if multiplo(i,3):\n",
    "        multiplos_3.append(i)# guarda los multiplos de 3\n",
    "for i in range(45,100):\n",
    "    if multiplo(i,4): \n",
    "        multiplos_4.append(i)# guarda los multiplos de 4\n",
    " \n",
    "print (\"Los multiplos de 3 son:\", multiplos_3)\n",
    "print (\"\")\n",
    "print (\"Los multiplos de 4 son:\", multiplos_4)\n",
    "\n",
    "print('fin del ejercicio')"
   ]
  },
  {
   "cell_type": "markdown",
   "metadata": {},
   "source": [
    "# ejercicio #9"
   ]
  },
  {
   "cell_type": "code",
   "execution_count": null,
   "metadata": {},
   "outputs": [],
   "source": [
    "import math\n",
    "x_1 = int(input('ingrese la coordena de en x_1 : '))\n",
    "y_1 = int(input('ingrese la coordena de en y_1 : '))\n",
    "r_1 = int(input('ingrese la magnitud del raadio_1 :'))\n",
    "\n",
    "x_2 = int(input('ingrese la coordena de en x_2 : '))\n",
    "y_2 =  int(input('ingrese la coordena de en y_2 : '))\n",
    "r_2 =  int(input('ingrese la magnitud del radio_2 :'))\n",
    "\n",
    "a = int(input('ingrese cordenada a '))\n",
    "b = int(input('ingrese cordenada b '))\n",
    "\n",
    "d =  math.sqrt(((x_1-a)*(x_1-a))+(y_1-b)*(y_1-b))\n",
    "\n",
    "if ((d < r_1) and (d < r_2)):\n",
    "    print('las coordenadas ingresadas estan contenidass en la circunferencia')\n",
    "elif((d>r_1) and (d<r_2)):\n",
    "    print('esta contenido en circulo2')\n",
    "elif ((d < r_1) and (d > r_2)):\n",
    "    print('esta contenido en circulo1')\n",
    "elif ((d > r_1)and(d > r_2)):\n",
    "    print(' no estan contenidass en la circunferencia')\n",
    "print ('terminado')\n"
   ]
  },
  {
   "cell_type": "markdown",
   "metadata": {},
   "source": [
    "# ejercicio #10"
   ]
  },
  {
   "cell_type": "code",
   "execution_count": null,
   "metadata": {},
   "outputs": [],
   "source": [
    "x = input(\"escriba una palabra en minusculas\")\n",
    "c =  x.swapcase()\n",
    "print(c)"
   ]
  },
  {
   "cell_type": "markdown",
   "metadata": {},
   "source": [
    "# ejercicio #11"
   ]
  },
  {
   "cell_type": "code",
   "execution_count": 2,
   "metadata": {},
   "outputs": [
    {
     "name": "stdout",
     "output_type": "stream",
     "text": [
      "escriba una palabraajksk\n",
      "tiene 0 vocales mayusculas\n",
      "tiene 0 vocales con tilde\n",
      "tiene 0 digitos\n",
      "tiene 0 espacios\n",
      "[] son keywords contenidas en la palabra digitada\n"
     ]
    }
   ],
   "source": [
    "import keyword\n",
    "\n",
    "texto= input(\"escriba una palabra\")\n",
    "\n",
    "M=\"AEIOUÁÉÍÓÚ\"\n",
    "\n",
    "S1=[]\n",
    "\n",
    "for i in range(0, len(texto)):\n",
    "\n",
    "   if texto[i] in M:\n",
    "\n",
    "       S1.append(texto[i])\n",
    "\n",
    "print (\"tiene\", len(S1),\"vocales mayusculas\")\n",
    "\n",
    "\n",
    "MT=\"ÁÉÍÓÚáéíóú\"\n",
    "\n",
    "S2=[]\n",
    "\n",
    "for i in range(0, len(texto)):\n",
    "\n",
    "   if texto[i] in MT:\n",
    "\n",
    "       S2.append(texto[i])\n",
    "\n",
    "print (\"tiene\", len(S2),\"vocales con tilde\")\n",
    "\n",
    "\n",
    "num=\"0123456789\"\n",
    "\n",
    "S3=[]\n",
    "\n",
    "for i in range(0, len(texto)):\n",
    "\n",
    "   if texto[i] in num:\n",
    "\n",
    "       S3.append(texto[i])\n",
    "\n",
    "print (\"tiene\", len(S3),\"digitos\")\n",
    "\n",
    "\n",
    "\n",
    "espacio= \" \"\n",
    "\n",
    "S4=[]\n",
    "\n",
    "for i in range(0, len(texto)):\n",
    "\n",
    "   if texto[i] in espacio:\n",
    "\n",
    "       S4.append(texto[i])\n",
    "\n",
    "print (\"tiene\", len(S4),\"espacios\")\n",
    "\n",
    "\n",
    "S5=texto.split()\n",
    "\n",
    "S6=[]\n",
    "\n",
    "for i in range(0, len(S5)):\n",
    "\n",
    "   if [i] in keyword.kwlist:\n",
    "\n",
    "       S6.append(S5[i])\n",
    "\n",
    "print (S6,\"son keywords contenidas en la palabra digitada\")\n",
    "\n",
    " \n",
    "\n",
    "\n"
   ]
  },
  {
   "cell_type": "markdown",
   "metadata": {},
   "source": [
    "# ejercicio #12"
   ]
  },
  {
   "cell_type": "code",
   "execution_count": null,
   "metadata": {},
   "outputs": [],
   "source": [
    "pal1=(input(\"ingrese palabra: \")).lower()\n",
    "pal2=(input(\"ingrese palabra: \")).lower()\n",
    "\n",
    "pal1_cop=\"\"\n",
    "pal2_cop=\"\"\n",
    "\n",
    "pal_mayor= \"\"\n",
    "espacios = 0\n",
    "\n",
    "if len(pal1) > len(pal2):\n",
    "    len_mayor=len(pal1)\n",
    "    espacios = len(pal1) - len(pal2)\n",
    "    pal2 += \" \" * espacios\n",
    "else:\n",
    "    len_mayor = len(pal2)\n",
    "    espacios = len(pal2) - len(pal1)\n",
    "    pal1+= \" \" * espacios\n",
    "    \n",
    "for i in pal1:\n",
    "    if 97<= ord(i) <=122: \n",
    "        pal1_cop += i\n",
    "    elif i in \"á\":\n",
    "        pal1_cop += \"a\"\n",
    "    elif i in \"é\":\n",
    "        pal1_cop += \"e\"\n",
    "    elif i in \"í\":\n",
    "        pal1_cop += \"i\"\n",
    "    elif i in \"ó\":\n",
    "        pal1_cop += \"o\"\n",
    "    elif i in \"ú\":\n",
    "        pal1_cop += \"u\"\n",
    "    elif i in \"ñ\":\n",
    "        pal1_cop += \"ñ\"\n",
    "    else:\n",
    "        pal1_cop += i\n",
    "        \n",
    "for i in pal2: \n",
    "    \n",
    "    if 97<= ord(i) <=122:\n",
    "        pal2_cop += i\n",
    "    elif i in \"á\":\n",
    "        pal2_cop += \"a\"\n",
    "    elif i in \"é\":\n",
    "        pal2_cop += \"e\"\n",
    "    elif i in \"í\":\n",
    "        pal2_cop += \"i\"\n",
    "    elif i in \"ó\":\n",
    "        pal2_cop += \"o\"\n",
    "    elif i in \"ú\":\n",
    "        pal2_cop += \"u\"\n",
    "    elif i in \"ñ\":\n",
    "        pal2_cop += \"ñ\"\n",
    "    else:\n",
    "        pal2_cop += i\n",
    "\n",
    "for i in range(len_mayor):\n",
    "    if (pal1_cop[i] == \"ñ\") and (ord(pal2_cop[i])<= ord(\"n\")):\n",
    "        pal_mayor=pal2\n",
    "        break\n",
    "    elif (pal2_cop[i] == \"ñ\") and (ord(pal1_cop[i])<= ord(\"n\")):\n",
    "        pal_mayor=pal1\n",
    "        break\n",
    "    elif pal1_cop[i] < pal2_cop[i]:\n",
    "        pal_mayor=pal1\n",
    "        break\n",
    "    elif pal1_cop[i] > pal2_cop[i]:\n",
    "        pal_mayor=pal1\n",
    "        break\n",
    "if pal_mayor:\n",
    "    print(\"la palabra que esta primero en el diccionario es:\",{pal_mayor})   \n",
    "else:\n",
    "    print(\"las palabras son las mismas\")    \n"
   ]
  },
  {
   "cell_type": "markdown",
   "metadata": {},
   "source": [
    "# ejercicio #13"
   ]
  },
  {
   "cell_type": "code",
   "execution_count": null,
   "metadata": {},
   "outputs": [],
   "source": [
    "# Se lee la cadena\n",
    "cadena = input('Digite la cadena de texto: ')\n",
    "\n",
    "# Se eliminan los espacios presentes en la cadena\n",
    "cadena = cadena.replace(' ', '')\n",
    "\n",
    "# Se determina el número de caracteres en la cadena\n",
    "num_caract = len(cadena)\n",
    "\n",
    "# Se determina el número de filas y el número máximo de caracteres por fila\n",
    "temp = 0                       # Variable auxiliar \n",
    "num_filas = 1                  \n",
    "while temp < num_caract:\n",
    "    temp += 2 * num_filas - 1\n",
    "    num_filas += 1\n",
    "\n",
    "num_max = 2 * num_filas - 1    # Número máximo de caracteres en una fila\n",
    "\n",
    "# Se imprime la cadena de texto \n",
    "aux_1 = 0        #Almacena la última posición en la que se imprime la fila i\n",
    "aux_2 = 0        #Cantidad de letras que se imprimen en la fila i\n",
    "contador = 0     # Verifica si luego de imprimir el triángulo aún quedan letras\n",
    "                 # por imprimir\n",
    "\n",
    "for i in range(1,num_filas):\n",
    "    aux_2 += 2*i-1     \n",
    "    print(cadena[aux_1:aux_2].center(num_max,' '))\n",
    "    aux_1 = aux_2      \n",
    "    contador += 1\n",
    "    \n",
    "if contador != num_caract:\n",
    "    print(cadena[aux_2:].center(num_max,' '))"
   ]
  },
  {
   "cell_type": "markdown",
   "metadata": {},
   "source": [
    "# ejercicio #14"
   ]
  },
  {
   "cell_type": "code",
   "execution_count": null,
   "metadata": {},
   "outputs": [],
   "source": [
    "x =str(input(\"ingrese la cadena = \")) #entrada de datos \n",
    "cadena = x # definimos una variable para cadena\n",
    "l=list(cadena)# la convertimos a lista \n",
    "ol=sorted(l) # organiamos la lista\n",
    "c=''.join(ol) # volvemos nuevamente una cadena \n",
    "print('la cadena organizada es =',c) # imprime cadena organizda"
   ]
  },
  {
   "cell_type": "markdown",
   "metadata": {},
   "source": [
    "# ejercicio #15"
   ]
  },
  {
   "cell_type": "code",
   "execution_count": null,
   "metadata": {},
   "outputs": [],
   "source": [
    "a = int(input(\"digite su numero:  \")) #entrada de datos \n",
    "b = str(a)\n",
    "            #condiciona para cada numero e imprimo si se cumple o no para cada uno de ellos \n",
    "if b.count(\"0\") == 2:\n",
    "    print (\"numero 0 : \" \"repetido exactamente 2 veces\")    \n",
    "else:\n",
    "    print (\"no hay numero 0 repetido numeros exactamente 2 veces\")\n",
    "if b.count(\"1\") == 2:\n",
    "    print (\"numero 1 : \" \"repetido exactamente 2 veces\")\n",
    "else:\n",
    "    print (\"no hay numero 1 repetido numeros exactamente 2 veces\")\n",
    "if b.count(\"2\") == 2:\n",
    "    print (\"numero 2 : \" \"repetido exactamente 2 veces\")\n",
    "else:\n",
    "    print (\"no hay numero 2 repetido numeros exactamente 2 veces\")\n",
    "if b.count(\"3\") == 2:\n",
    "    print (\"numero 3 : \"\"repetido exactamente 2 veces\")\n",
    "else:\n",
    "    print (\"no hay numero 3 repetido numeros exactamente 2 veces\")\n",
    "if b.count(\"4\") == 2:\n",
    "    print (\"numero 4 : \"\"repetido exactamente 2 veces\")\n",
    "else:\n",
    "    print (\"no hay numero 4 repetido numeros exactamente 2 veces\")\n",
    "if b.count(\"5\") == 2:\n",
    "    print (\"numero 5 : \" \"repetido exactamente 2 veces\")\n",
    "else:\n",
    "    print (\"no hay numero 5 repetido numeros exactamente 2 veces\")\n",
    "if b.count(\"6\") == 2:\n",
    "    print (\"numero 6 : \" \"repetido exactamente 2 veces\")\n",
    "else:\n",
    "    print (\"no hay numero 6 repetido numeros exactamente 2 veces\")\n",
    "if b.count(\"7\") == 2:\n",
    "    print (\"numero 7 : \" \"repetido exactamente 2 veces\")\n",
    "else:\n",
    "    print (\"no hay numero 7 repetido numeros exactamente 2 veces\")\n",
    "if b.count(\"8\") == 2:\n",
    "    print (\"numero 8 : \" \"repetido exactamente 2 veces\")\n",
    "else:\n",
    "    print (\"no hay numero 8 repetido numeros exactamente 2 veces\")\n",
    "if b.count(\"9\") == 2:\n",
    "    print (\"numero 8 : \" \"repetido exactamente 2 veces\")\n",
    "else:\n",
    "    print (\"no hay numero 9 repetido numeros exactamente 2 veces\")"
   ]
  },
  {
   "cell_type": "markdown",
   "metadata": {},
   "source": [
    "# ejercicio #16"
   ]
  },
  {
   "cell_type": "code",
   "execution_count": null,
   "metadata": {},
   "outputs": [],
   "source": [
    "\n",
    "x =list(input(\"ingrse la lista\")) #entrada de datos \n",
    "lista = x\n",
    "if lista == sorted(lista) : #compara si la lista esta ordenada\n",
    "     print (\"lista esta ordenada\") #imprime si esta ordenada\n",
    "else:\n",
    "    print (\"la lista no esta ordenada\")#inmprime si no esta ordenada\n",
    "    \n",
    "y = (input(\"ingrese el numero\")) #entrada de datos()adicion de numero\n",
    "\n",
    "lista.append(y) #añade el dato de la entrada anterior(y)\n",
    "\n",
    "lista.sort()#ordena la lista\n",
    "\n",
    "print (lista)#imprime la lista ordenada"
   ]
  },
  {
   "cell_type": "markdown",
   "metadata": {},
   "source": [
    "# ejercicio #17"
   ]
  },
  {
   "cell_type": "code",
   "execution_count": null,
   "metadata": {},
   "outputs": [],
   "source": [
    "x =list(input(\"ingrse la lista\")) #entrada de datos \n",
    "lista = x\n",
    "b = max (lista)  #encuentro el mayor de la lista\n",
    "lista.remove(b) #borro el mayor de la lista\n",
    "c = max (lista) #encuentro el mayor  de la lista ya borrado el primero\n",
    "                # \\ya borrado el primero seria el segundo mayor\n",
    "print (c)#imprimo el segundo mayor de la lista"
   ]
  },
  {
   "cell_type": "markdown",
   "metadata": {},
   "source": [
    "# ejercicio #18"
   ]
  },
  {
   "cell_type": "code",
   "execution_count": 4,
   "metadata": {},
   "outputs": [
    {
     "ename": "ModuleNotFoundError",
     "evalue": "No module named 'numpy'",
     "output_type": "error",
     "traceback": [
      "\u001b[0;31m---------------------------------------------------------------------------\u001b[0m",
      "\u001b[0;31mModuleNotFoundError\u001b[0m                       Traceback (most recent call last)",
      "\u001b[0;32m<ipython-input-4-5fa1d66d8df9>\u001b[0m in \u001b[0;36m<module>\u001b[0;34m\u001b[0m\n\u001b[0;32m----> 1\u001b[0;31m \u001b[0;32mimport\u001b[0m \u001b[0mnumpy\u001b[0m \u001b[0;32mas\u001b[0m \u001b[0mnp\u001b[0m\u001b[0;34m\u001b[0m\u001b[0;34m\u001b[0m\u001b[0m\n\u001b[0m\u001b[1;32m      2\u001b[0m \u001b[0;34m\u001b[0m\u001b[0m\n\u001b[1;32m      3\u001b[0m \u001b[0;31m#A=[[1,42,1,66],[10,1,92,1],[37,1,1,19],[1,72,1,1]]\u001b[0m\u001b[0;34m\u001b[0m\u001b[0;34m\u001b[0m\u001b[0;34m\u001b[0m\u001b[0m\n\u001b[1;32m      4\u001b[0m \u001b[0;34m\u001b[0m\u001b[0m\n\u001b[1;32m      5\u001b[0m \u001b[0mn\u001b[0m\u001b[0;34m=\u001b[0m\u001b[0minput\u001b[0m\u001b[0;34m(\u001b[0m\u001b[0;34m'inserte numero de filas y columnas:'\u001b[0m\u001b[0;34m)\u001b[0m\u001b[0;31m#se ingresa # de filas y columnas de A\u001b[0m\u001b[0;34m\u001b[0m\u001b[0;34m\u001b[0m\u001b[0m\n",
      "\u001b[0;31mModuleNotFoundError\u001b[0m: No module named 'numpy'"
     ]
    }
   ],
   "source": [
    "import numpy as np\n",
    "\n",
    "#A=[[1,42,1,66],[10,1,92,1],[37,1,1,19],[1,72,1,1]]\n",
    "\n",
    "n=input('inserte numero de filas y columnas:')#se ingresa # de filas y columnas de A\n",
    "\n",
    "n=int(n)\n",
    "\n",
    "\n",
    "A=mn=np.zeros((n,n),int)#Matriz de ceros para guardar en A los valores ingreados\n",
    "\n",
    "\n",
    "a=[]\n",
    "\n",
    "for i in range(n):\n",
    "\n",
    "   c=input('Ingrese los {:-1} valores de la fila {:-1}:'.format(n, i)) #Insertar filas de A ,\n",
    "\n",
    "   for j in range(len(c)):   #numero sin comillas, comas, puntos etc.\n",
    "\n",
    "      \n",
    "\n",
    "       A[i][j]=int(c[j])                   #Agregamos a A cada fila\n",
    "\n",
    "                                                                                                      #para guardr la list\n",
    "\n",
    "print(A)   #Mostrar A\n",
    "\n",
    "\n",
    "\n",
    "U=np.triu(A)    #Matriz triangular usando Numpy\n",
    "\n",
    "print(\"La matriz triangular superior es\")\n",
    "\n",
    "for i in range(len(U)):   #Mostrar U de A\n",
    "\n",
    "   print(U[i])\n",
    "\n",
    "  \n",
    "\n",
    "fu=[]  #para guardar las filas donde hay unos\n",
    "\n",
    "c=0     #contador en cero, incrementa cuando hay un 1\n",
    "\n",
    "t=False #suponemos que no hay 1\n",
    "\n",
    "for i in range(len(U)):\n",
    "\n",
    "   for j in range(len(U)):\n",
    "\n",
    "       if U[i][j]==1: \n",
    "\n",
    "           c=c+1     \n",
    "\n",
    "           t=True #si hay 1 t = True\n",
    "\n",
    "   fu.append(c)  #se agrega a fu la cantidad de 1 en cada fila\n",
    "\n",
    "   c=0 #cuando se contaron los 1 de cada fila, se reinicia en contador\n",
    "\n",
    "   #para contar los unos de la fila siguiente.\n",
    "\n",
    "\n",
    "\n",
    "if t is True:                    #Si hay unos \n",
    "\n",
    "   for i in range(len(fu)):     #buscamos\n",
    "\n",
    "       if fu[i]==max(fu):       #el maximo numero de unos\n",
    "\n",
    "           print(\"La fila(s) que tiene mayor numero de unos es la fila %s:\" %[i])\n",
    "\n",
    "else:\n",
    "\n",
    "   print(\"No hay unos en la fila\")  #Si no hay unos "
   ]
  },
  {
   "cell_type": "markdown",
   "metadata": {},
   "source": [
    "# ejercicio #19"
   ]
  },
  {
   "cell_type": "code",
   "execution_count": null,
   "metadata": {},
   "outputs": [],
   "source": [
    "l =list(input(\"ingrese la lista\"))\n",
    "ll = []\n",
    "temp = l[0]\n",
    "ll.append(l[0])\n",
    "keyval = {}\n",
    "\n",
    "for x in range(0,len(l)):\n",
    "    if l[x] >= temp :\n",
    "        ll.append(l[x])\n",
    "        temp = l[x]\n",
    "#print (ll)\n",
    "    else:\n",
    "        keyval[len(ll)] = ll\n",
    "        ll=[]\n",
    "        temp = l[x]\n",
    "\n",
    "max_key = max(keyval.keys())\n",
    "print (keyval[max_key])"
   ]
  },
  {
   "cell_type": "markdown",
   "metadata": {},
   "source": [
    "# ejercicio #20"
   ]
  },
  {
   "cell_type": "code",
   "execution_count": null,
   "metadata": {},
   "outputs": [],
   "source": [
    "matriz  =  [[62, 42, 70, 66, 10],\n",
    "            [35, 10,  4, 92, 94],\n",
    "            [36, 37,  5,100, 19],\n",
    "            [79, 44, 72, 53, 91]]\n",
    "\n",
    "\n",
    "m = matriz        # m--> matriz de entrada\n",
    "\n",
    "\n",
    "## --Preparo las dimensiones de la matriz de salida mo\n",
    "mo = [None]*len(m[0])          #nro de columnas de m = nro de columnas mo\n",
    "for i in range(0,len(m[0])):\n",
    "    mo[i] = [None]*len(m)      #nro de filas de m = nro de columnas de mo\n",
    "\n",
    "for i in range(len(m)):\n",
    "    for j in range(-len(m[0]),0): # empiezo al revés para asegurar \n",
    "                                    #el giro antihorario\n",
    "        mo[-j-1][i] = m[i][j]    # indice de la fila no ascendente e indice \n",
    "                                #de la columna m descendente\n",
    "print()\n",
    "print(\"Matriz Original\") # matriz original\n",
    "for i in range(len(m)):\n",
    "    print(m[i])\n",
    "\n",
    "print()     # matriz rotada \n",
    "print(\"Matriz Rotada 90 grados en sentido antihorario\")\n",
    "for i in range(len(mo)):\n",
    "    print(mo[i])"
   ]
  },
  {
   "cell_type": "code",
   "execution_count": null,
   "metadata": {},
   "outputs": [],
   "source": [
    "import numpy as np\n",
    "\n",
    "matriz  = np.array([[62, 42, 70, 66, 10],\n",
    "                    [35, 10,  4, 92, 94],\n",
    "                    [36, 37,  5,100, 19],\n",
    "                    [79, 44, 72, 53, 91]])\n",
    "M = matriz\n",
    "\n",
    "Mo = (M.T).copy()          # Obtengo la matriz transpuesta\n",
    "\n",
    "for i in range(Mo.shape[0]):\n",
    "    Mo[-(i+1),:] = M[:,i].copy()   # Invierto sus columnas\n",
    "\n",
    "    \n",
    "print(\"Matriz Original\")\n",
    "print(M)\n",
    "print(\"Matriz Rotada 90 grados en sentido antihorario\")\n",
    "print(Mo)"
   ]
  }
 ],
 "metadata": {
  "kernelspec": {
   "display_name": "Python 3",
   "language": "python",
   "name": "python3"
  },
  "language_info": {
   "codemirror_mode": {
    "name": "ipython",
    "version": 3
   },
   "file_extension": ".py",
   "mimetype": "text/x-python",
   "name": "python",
   "nbconvert_exporter": "python",
   "pygments_lexer": "ipython3",
   "version": "3.7.2"
  }
 },
 "nbformat": 4,
 "nbformat_minor": 2
}
