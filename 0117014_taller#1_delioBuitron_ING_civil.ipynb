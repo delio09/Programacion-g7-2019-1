{
 "cells": [
  {
   "cell_type": "markdown",
   "metadata": {},
   "source": [
    "\n",
    "# ejercicio #1"
   ]
  },
  {
   "cell_type": "code",
   "execution_count": null,
   "metadata": {},
   "outputs": [],
   "source": [
    "\n",
    "x = float(input(\"por favor ingrese un numero:\")) #entrada de datos\n",
    "if x >= 0 : #condicional\n",
    "    print('su numero en valor absoluto es :',x)#salida de datos\n",
    "else: #\n",
    "    x=x*-1\n",
    "    print('su numero en valor absoluto es :',x) #salida de datos"
   ]
  },
  {
   "cell_type": "markdown",
   "metadata": {},
   "source": [
    "# ejercicio #2"
   ]
  },
  {
   "cell_type": "code",
   "execution_count": null,
   "metadata": {},
   "outputs": [],
   "source": [
    "z=0\n",
    "y=0\n",
    "x = int(input('ingrese un numero :'))#entrada de datos\n",
    "while x > 0:\n",
    "    y=x%10\n",
    "    z=(z*10)+y \n",
    "    x=int(x/10)\n",
    "print('su numero en reversa es:', z) #salida de resultado"
   ]
  },
  {
   "cell_type": "markdown",
   "metadata": {},
   "source": [
    "# ejercicio #3"
   ]
  },
  {
   "cell_type": "code",
   "execution_count": null,
   "metadata": {},
   "outputs": [],
   "source": [
    "c = 0  # bandera \n",
    "x = int(input('ingresar un numero:'))\n",
    "if x >=-1000 and x<=1000 :              # verificacion del numero sea positivo\n",
    "    if x < 0 :\n",
    "        x=x*-1\n",
    "    \n",
    "    while x>0:\n",
    "        if x%10 == 8:                   #tomomos ultimo digito y comparo si es 8\n",
    "            c=1                         # si encuentra un 8 levanta la bandera \n",
    "        x= int(x/10)                    # valor de x despues del ultimo digito \n",
    "    if c==1 :                           # pregunto si la bandera esta levantada \n",
    "        print('contiene el 8')\n",
    "\n",
    "    else :\n",
    "        print('no contiene el 8')       \n",
    "        \n",
    "else:\n",
    "    print('numero invalido ') "
   ]
  },
  {
   "cell_type": "markdown",
   "metadata": {},
   "source": [
    "# ejercicio #4"
   ]
  },
  {
   "cell_type": "code",
   "execution_count": null,
   "metadata": {},
   "outputs": [],
   "source": [
    "c=0    # acumulador \n",
    "x= int(input('ingresar valor :'))\n",
    "while x>0:\n",
    "    y=(x%10)\n",
    "    if y % 2 ==0:\n",
    "        c= c + y\n",
    "    x= int(x/10)    # es para ir reduciendo la cifra \n",
    "print('la suma de los numeros pares es: ', c )\n"
   ]
  },
  {
   "cell_type": "markdown",
   "metadata": {},
   "source": [
    "# ejercicio #5"
   ]
  },
  {
   "cell_type": "code",
   "execution_count": null,
   "metadata": {},
   "outputs": [],
   "source": [
    "c = 0  # contador \n",
    "b=0 #bandera\n",
    "t=0 # temporal\n",
    "x = int(input('ingresar un numero:'))          \n",
    "\n",
    "while x>0:\n",
    "    if (x%10 == 5) :    #tomomos ultimo digito y comparo si es 5\n",
    "        c= c+1              # si encuentra un 5 guardarlo\n",
    "        b=1\n",
    "        if c>t:\n",
    "            t=c\n",
    "    else :\n",
    "        b=0\n",
    "        c=0\n",
    "    x= int(x/10)  # valor de x despues del ultimo digito \n",
    "\n",
    "print('este numero contiene',t ,'cincos concecutivos')"
   ]
  },
  {
   "cell_type": "markdown",
   "metadata": {},
   "source": [
    "# ejercicio #6"
   ]
  },
  {
   "cell_type": "code",
   "execution_count": null,
   "metadata": {},
   "outputs": [],
   "source": [
    "c=0\n",
    "s=0\n",
    "x = int(input('ingrese un numero:'))\n",
    "cadena=[];  # para calcular la sucecion \n",
    "for i in range(1,x+1):\n",
    "    if i==1 or i==2:\n",
    "        cadena.append(1)\n",
    "    else :\n",
    "        cadena.append(cadena[i-2] + cadena[i-3])\n",
    "                 \n",
    "while x>0:    # ciclo que me va a sumar los digitos del numero ingresado\n",
    "    y=(x%10)\n",
    "    c=c+y\n",
    "    x=int(x/10)\n",
    "print('la suma de los digitos de su numero es',c)\n",
    "\n",
    "if c in cadena : # pribar si la suma de los digitos del numero ingresao si \n",
    "    # esta en la sucecion\n",
    "    print(c,'esta en la sucecion ')\n",
    "else:\n",
    "    print(c,'no esta en la sucecion')"
   ]
  },
  {
   "cell_type": "markdown",
   "metadata": {},
   "source": [
    "# ejercicio #7"
   ]
  },
  {
   "cell_type": "code",
   "execution_count": null,
   "metadata": {},
   "outputs": [],
   "source": [
    "cadena=[]\n",
    "c=0   # contador \n",
    "x = int(input('ingrese un numero :'))\n",
    "z=x # duplicado \n",
    "while x>0:   # ciclo que me recorre el numero ingresado\n",
    "    w=(x%10) #  seleciona el ultimo digito ingresado \n",
    "    y=z #   reinicia el duplicado\n",
    "    while y>0: # ciclo que verofica el ultimo digito ingresado con cada digito\n",
    "        #del duplicado\n",
    "        if w ==(y%10): \n",
    "            c=c+1# si encuentra una coincidencia aumenta el contador\n",
    "        y=int(y/10) # siguiente digito del duplicado\n",
    "    if c>1: #si elcontador es mayor a 1 implica qur hay un digito repetido \n",
    "        if w not in cadena: # si el digito es repetido verifica si no a sido\n",
    "            #tenido encuenta\n",
    "            cadena.append(w)# si no a sido tenido en cuenta se agrega a la lista \n",
    "    c=0 # iniciar el contador \n",
    "    x= int(x/10) # va reduciendo el numero ingresado\n",
    "print('digitos repetidos:',cadena) # resultado \n"
   ]
  },
  {
   "cell_type": "markdown",
   "metadata": {},
   "source": [
    "# ejercicio #8"
   ]
  },
  {
   "cell_type": "code",
   "execution_count": null,
   "metadata": {},
   "outputs": [],
   "source": [
    "def multiplo(valor, multiplo):#Funcion para calcular si el numero es multiplo\n",
    "   # utilizando el modulo de la division\n",
    "    resto = valor % multiplo  # funcion para caucular el multiplo\n",
    "    if resto == 0:\n",
    "        return True\n",
    "    else:\n",
    "        return False\n",
    " \n",
    "\n",
    "multiplos_3=[]  # lista que contendra los valores multiplos\n",
    "multiplos_4=[]\n",
    " \n",
    "\n",
    "for i in range(0,45): # bucle del 0 al 100\n",
    " \n",
    "    if multiplo(i,3):\n",
    "        multiplos_3.append(i)# guarda los multiplos de 3\n",
    "for i in range(45,100):\n",
    "    if multiplo(i,4): \n",
    "        multiplos_4.append(i)# guarda los multiplos de 4\n",
    " \n",
    "print (\"Los multiplos de 3 son:\", multiplos_3)\n",
    "print (\"\")\n",
    "print (\"Los multiplos de 4 son:\", multiplos_4)\n",
    "\n",
    "print('fin del ejercicio')"
   ]
  },
  {
   "cell_type": "markdown",
   "metadata": {},
   "source": [
    "# ejercicio #9"
   ]
  },
  {
   "cell_type": "code",
   "execution_count": null,
   "metadata": {},
   "outputs": [],
   "source": [
    "import math\n",
    "x_1 = int(input('ingrese la coordena de en x_1 : '))\n",
    "y_1 = int(input('ingrese la coordena de en y_1 : '))\n",
    "r_1 = int(input('ingrese la magnitud del raadio_1 :'))\n",
    "\n",
    "x_2 = int(input('ingrese la coordena de en x_2 : '))\n",
    "y_2 =  int(input('ingrese la coordena de en y_2 : '))\n",
    "r_2 =  int(input('ingrese la magnitud del radio_2 :'))\n",
    "\n",
    "a = int(input('ingrese cordenada a '))\n",
    "b = int(input('ingrese cordenada b '))\n",
    "\n",
    "d =  math.sqrt(((x_1-a)*(x_1-a))+(y_1-b)*(y_1-b))\n",
    "\n",
    "if ((d < r_1) and (d < r_2)):\n",
    "    print('las coordenadas ingresadas estan contenidass en la circunferencia')\n",
    "elif((d>r_1) and (d<r_2)):\n",
    "    print('esta contenido en circulo2')\n",
    "elif ((d < r_1) and (d > r_2)):\n",
    "    print('esta contenido en circulo1')\n",
    "elif ((d > r_1)and(d > r_2)):\n",
    "    print(' no estan contenidass en la circunferencia')\n",
    "print ('terminado')\n"
   ]
  },
  {
   "cell_type": "markdown",
   "metadata": {},
   "source": [
    "# ejercicio #10"
   ]
  },
  {
   "cell_type": "code",
   "execution_count": null,
   "metadata": {},
   "outputs": [],
   "source": [
    "x = input(\"escriba una palabra en minusculas\")\n",
    "c =  x.swapcase()\n",
    "print(c)"
   ]
  },
  {
   "cell_type": "markdown",
   "metadata": {},
   "source": [
    "# ejercicio #11"
   ]
  },
  {
   "cell_type": "code",
   "execution_count": null,
   "metadata": {},
   "outputs": [],
   "source": [
    "from keyword import kwlist\n",
    "cont_voc_may= 0\n",
    "cont_let_ti = 0\n",
    "cont_dig = 0\n",
    "cont_esp = 0\n",
    "cont_pal_res = 0\n",
    "\n",
    "cade = input(\"ingrese una cadena de texto: \")\n",
    "for i in cade:\n",
    "    if i in \"AEIOUÁÉÍÓÚ\": #encontrar vocales mayusculas y con tildes\n",
    "        cont_voc_may += 1\n",
    "    if i in \"aeiouáéíóú\": #encontrar voxales minusculas y con tilde\n",
    "        cont_let_ti += 1\n",
    "    elif i.isdigit():\n",
    "        cont_dig += 1\n",
    "    elif i == \" \":\n",
    "        cont_esp += 1\n",
    "        \n",
    "for i in tuple(cade.split(\" \")):\n",
    "    if i in kwlist:\n",
    "        cont_pal_res += 1\n",
    "print(\"\\nEn la cadena de texto hay: \\n \" #funcion contar de cada tipo\n",
    "      \"{0} vocal{1} en mayusculas. \\n\"\n",
    "      .format(cont_voc_may, \"\" if cont_voc_may == 1 else \"es\"),\n",
    "      \"{0} letra{1} con tilde. \\n\"\n",
    "      .format(cont_let_ti, \"\" if cont_let_ti == 1 else \"s\"),\n",
    "      \"{0} digito{1}. \\n\"\n",
    "      .format(cont_dig, \"\" if cont_dig == 1 else \"s\"),\n",
    "       \"{0} espacio{1}. \\n\"\n",
    "      .format(cont_esp, \"\" if cont_esp == 1 else \"s\"),\n",
    "       \"{0} palabra{1} restringida{1}. \\n\"\n",
    "      .format(cont_pal_res, \"\" if cont_pal_res == 1 else \"s\"))\n"
   ]
  },
  {
   "cell_type": "markdown",
   "metadata": {},
   "source": [
    "# ejercicio #12"
   ]
  },
  {
   "cell_type": "code",
   "execution_count": null,
   "metadata": {},
   "outputs": [],
   "source": [
    "pal1=(input(\"ingrese palabra: \")).lower()\n",
    "pal2=(input(\"ingrese palabra: \")).lower()\n",
    "\n",
    "pal1_cop=\"\"\n",
    "pal2_cop=\"\"\n",
    "\n",
    "pal_mayor= \"\"\n",
    "espacios = 0\n",
    "\n",
    "if len(pal1) > len(pal2):\n",
    "    len_mayor=len(pal1)\n",
    "    espacios = len(pal1) - len(pal2)\n",
    "    pal2 += \" \" * espacios\n",
    "else:\n",
    "    len_mayor = len(pal2)\n",
    "    espacios = len(pal2) - len(pal1)\n",
    "    pal1+= \" \" * espacios\n",
    "    \n",
    "for i in pal1:\n",
    "    if 97<= ord(i) <=122: \n",
    "        pal1_cop += i\n",
    "    elif i in \"á\":\n",
    "        pal1_cop += \"a\"\n",
    "    elif i in \"é\":\n",
    "        pal1_cop += \"e\"\n",
    "    elif i in \"í\":\n",
    "        pal1_cop += \"i\"\n",
    "    elif i in \"ó\":\n",
    "        pal1_cop += \"o\"\n",
    "    elif i in \"ú\":\n",
    "        pal1_cop += \"u\"\n",
    "    elif i in \"ñ\":\n",
    "        pal1_cop += \"ñ\"\n",
    "    else:\n",
    "        pal1_cop += i\n",
    "        \n",
    "for i in pal2: \n",
    "    \n",
    "    if 97<= ord(i) <=122:\n",
    "        pal2_cop += i\n",
    "    elif i in \"á\":\n",
    "        pal2_cop += \"a\"\n",
    "    elif i in \"é\":\n",
    "        pal2_cop += \"e\"\n",
    "    elif i in \"í\":\n",
    "        pal2_cop += \"i\"\n",
    "    elif i in \"ó\":\n",
    "        pal2_cop += \"o\"\n",
    "    elif i in \"ú\":\n",
    "        pal2_cop += \"u\"\n",
    "    elif i in \"ñ\":\n",
    "        pal2_cop += \"ñ\"\n",
    "    else:\n",
    "        pal2_cop += i\n",
    "\n",
    "for i in range(len_mayor):\n",
    "    if (pal1_cop[i] == \"ñ\") and (ord(pal2_cop[i])<= ord(\"n\")):\n",
    "        pal_mayor=pal2\n",
    "        break\n",
    "    elif (pal2_cop[i] == \"ñ\") and (ord(pal1_cop[i])<= ord(\"n\")):\n",
    "        pal_mayor=pal1\n",
    "        break\n",
    "    elif pal1_cop[i] < pal2_cop[i]:\n",
    "        pal_mayor=pal1\n",
    "        break\n",
    "    elif pal1_cop[i] > pal2_cop[i]:\n",
    "        pal_mayor=pal1\n",
    "        break\n",
    "if pal_mayor:\n",
    "    print(\"la palabra que esta primero en el diccionario es:\",{pal_mayor})   \n",
    "else:\n",
    "    print(\"las palabras son las mismas\")    \n"
   ]
  },
  {
   "cell_type": "markdown",
   "metadata": {},
   "source": [
    "# ejercicio #13"
   ]
  },
  {
   "cell_type": "code",
   "execution_count": null,
   "metadata": {},
   "outputs": [],
   "source": [
    "# Se lee la cadena\n",
    "cadena = input('Digite la cadena de texto: ')\n",
    "\n",
    "# Se eliminan los espacios presentes en la cadena\n",
    "cadena = cadena.replace(' ', '')\n",
    "\n",
    "# Se determina el número de caracteres en la cadena\n",
    "num_caract = len(cadena)\n",
    "\n",
    "# Se determina el número de filas y el número máximo de caracteres por fila\n",
    "temp = 0                       # Variable auxiliar \n",
    "num_filas = 1                  \n",
    "while temp < num_caract:\n",
    "    temp += 2 * num_filas - 1\n",
    "    num_filas += 1\n",
    "\n",
    "num_max = 2 * num_filas - 1    # Número máximo de caracteres en una fila\n",
    "\n",
    "# Se imprime la cadena de texto \n",
    "aux_1 = 0        #Almacena la última posición en la que se imprime la fila i\n",
    "aux_2 = 0        #Cantidad de letras que se imprimen en la fila i\n",
    "contador = 0     # Verifica si luego de imprimir el triángulo aún quedan letras\n",
    "                 # por imprimir\n",
    "\n",
    "for i in range(1,num_filas):\n",
    "    aux_2 += 2*i-1     \n",
    "    print(cadena[aux_1:aux_2].center(num_max,' '))\n",
    "    aux_1 = aux_2      \n",
    "    contador += 1\n",
    "    \n",
    "if contador != num_caract:\n",
    "    print(cadena[aux_2:].center(num_max,' '))"
   ]
  },
  {
   "cell_type": "markdown",
   "metadata": {},
   "source": [
    "# ejercicio #15"
   ]
  },
  {
   "cell_type": "code",
   "execution_count": null,
   "metadata": {},
   "outputs": [],
   "source": [
    "a = int(input(\"digite su numero:  \")) #entrada de datos \n",
    "b = str(a)\n",
    "            #condiciona para cada numero e imprimo si se cumple o no para cada uno de ellos \n",
    "if b.count(\"0\") == 2:\n",
    "    print (\"numero 0 : \" \"repetido exactamente 2 veces\")    \n",
    "else:\n",
    "    print (\"no hay numero 0 repetido numeros exactamente 2 veces\")\n",
    "if b.count(\"1\") == 2:\n",
    "    print (\"numero 1 : \" \"repetido exactamente 2 veces\")\n",
    "else:\n",
    "    print (\"no hay numero 1 repetido numeros exactamente 2 veces\")\n",
    "if b.count(\"2\") == 2:\n",
    "    print (\"numero 2 : \" \"repetido exactamente 2 veces\")\n",
    "else:\n",
    "    print (\"no hay numero 2 repetido numeros exactamente 2 veces\")\n",
    "if b.count(\"3\") == 2:\n",
    "    print (\"numero 3 : \"\"repetido exactamente 2 veces\")\n",
    "else:\n",
    "    print (\"no hay numero 3 repetido numeros exactamente 2 veces\")\n",
    "if b.count(\"4\") == 2:\n",
    "    print (\"numero 4 : \"\"repetido exactamente 2 veces\")\n",
    "else:\n",
    "    print (\"no hay numero 4 repetido numeros exactamente 2 veces\")\n",
    "if b.count(\"5\") == 2:\n",
    "    print (\"numero 5 : \" \"repetido exactamente 2 veces\")\n",
    "else:\n",
    "    print (\"no hay numero 5 repetido numeros exactamente 2 veces\")\n",
    "if b.count(\"6\") == 2:\n",
    "    print (\"numero 6 : \" \"repetido exactamente 2 veces\")\n",
    "else:\n",
    "    print (\"no hay numero 6 repetido numeros exactamente 2 veces\")\n",
    "if b.count(\"7\") == 2:\n",
    "    print (\"numero 7 : \" \"repetido exactamente 2 veces\")\n",
    "else:\n",
    "    print (\"no hay numero 7 repetido numeros exactamente 2 veces\")\n",
    "if b.count(\"8\") == 2:\n",
    "    print (\"numero 8 : \" \"repetido exactamente 2 veces\")\n",
    "else:\n",
    "    print (\"no hay numero 8 repetido numeros exactamente 2 veces\")\n",
    "if b.count(\"9\") == 2:\n",
    "    print (\"numero 8 : \" \"repetido exactamente 2 veces\")\n",
    "else:\n",
    "    print (\"no hay numero 9 repetido numeros exactamente 2 veces\")"
   ]
  },
  {
   "cell_type": "markdown",
   "metadata": {},
   "source": [
    "# ejercicio #16"
   ]
  },
  {
   "cell_type": "code",
   "execution_count": null,
   "metadata": {},
   "outputs": [],
   "source": [
    "\n",
    "x =list(input(\"ingrse la lista\")) #entrada de datos \n",
    "lista = x\n",
    "if lista == sorted(lista) : #compara si la lista esta ordenada\n",
    "     print (\"lista esta ordenada\") #imprime si esta ordenada\n",
    "else:\n",
    "    print (\"la lista no esta ordenada\")#inmprime si no esta ordenada\n",
    "    \n",
    "y = (input(\"ingrese el numero\")) #entrada de datos()adicion de numero\n",
    "\n",
    "lista.append(y) #añade el dato de la entrada anterior(y)\n",
    "\n",
    "lista.sort()#ordena la lista\n",
    "\n",
    "print (lista)#imprime la lista ordenada"
   ]
  },
  {
   "cell_type": "markdown",
   "metadata": {},
   "source": [
    "# ejercicio #17"
   ]
  },
  {
   "cell_type": "code",
   "execution_count": null,
   "metadata": {},
   "outputs": [],
   "source": [
    "x =list(input(\"ingrse la lista\")) #entrada de datos \n",
    "lista = x\n",
    "b = max (lista)  #encuentro el mayor de la lista\n",
    "lista.remove(b) #borro el mayor de la lista\n",
    "c = max (lista) #encuentro el mayor  de la lista ya borrado el primero\n",
    "                # \\ya borrado el primero seria el segundo mayor\n",
    "print (c)#imprimo el segundo mayor de la lista"
   ]
  }
 ],
 "metadata": {
  "kernelspec": {
   "display_name": "Python 3",
   "language": "python",
   "name": "python3"
  },
  "language_info": {
   "codemirror_mode": {
    "name": "ipython",
    "version": 3
   },
   "file_extension": ".py",
   "mimetype": "text/x-python",
   "name": "python",
   "nbconvert_exporter": "python",
   "pygments_lexer": "ipython3",
   "version": "3.6.7"
  }
 },
 "nbformat": 4,
 "nbformat_minor": 2
}
